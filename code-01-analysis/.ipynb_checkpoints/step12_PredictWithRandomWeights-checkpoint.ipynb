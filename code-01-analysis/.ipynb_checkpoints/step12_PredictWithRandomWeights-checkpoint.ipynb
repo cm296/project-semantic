{
 "cells": [
  {
   "cell_type": "code",
   "execution_count": 1,
   "metadata": {},
   "outputs": [],
   "source": [
    "import pandas as pd\n",
    "from sklearn.decomposition import PCA\n",
    "import os\n",
    "import utilsCM\n",
    "import numpy as np\n",
    "\n",
    "savepath = '../../../data-12/' #This needs to change based on step number!"
   ]
  },
  {
   "cell_type": "markdown",
   "metadata": {},
   "source": [
    "# Predicting using random weights"
   ]
  },
  {
   "cell_type": "markdown",
   "metadata": {},
   "source": [
    "### Load Word2Vec subset"
   ]
  },
  {
   "cell_type": "code",
   "execution_count": 2,
   "metadata": {},
   "outputs": [
    {
     "data": {
      "text/plain": [
       "array([[ 0.01977539, -0.02392578,  0.07324219, ...,  0.13671875,\n",
       "        -0.18359375, -0.09619141],\n",
       "       [ 0.13378906,  0.08984375, -0.16308594, ...,  0.12207031,\n",
       "        -0.30859375,  0.21484375],\n",
       "       [-0.03515625,  0.15234375, -0.12402344, ..., -0.04956055,\n",
       "        -0.1640625 , -0.03222656],\n",
       "       ...,\n",
       "       [-0.17578125, -0.109375  , -0.18945312, ..., -0.0378418 ,\n",
       "         0.30859375,  0.05004883],\n",
       "       [-0.03833008, -0.27734375, -0.18652344, ..., -0.02502441,\n",
       "        -0.11962891,  0.15429688],\n",
       "       [-0.26953125, -0.00576782, -0.28125   , ...,  0.12451172,\n",
       "         0.09472656, -0.02966309]])"
      ]
     },
     "execution_count": 2,
     "metadata": {},
     "output_type": "execute_result"
    }
   ],
   "source": [
    "filename = 'ThingsWrd2Vec_subset.txt'\n",
    "filepath = '../../../data-10/'\n",
    "Wrd2Vec = pd.read_csv(filepath + filename,sep=',',index_col = 0)\n",
    "Y_embeddings_subset = Wrd2Vec.values[:,:].astype(np.float)\n",
    "Y_embeddings_subset"
   ]
  },
  {
   "cell_type": "markdown",
   "metadata": {},
   "source": [
    "### Subset of things info"
   ]
  },
  {
   "cell_type": "code",
   "execution_count": 3,
   "metadata": {},
   "outputs": [],
   "source": [
    "WIpath = '../../../data-04/'\n",
    "nsample = 12\n",
    "WrdThingsInfo = pd.read_csv(WIpath + 'KeptTHINGSInfo_n' + str(nsample) +'.csv',sep=',',index_col = 0)"
   ]
  },
  {
   "cell_type": "markdown",
   "metadata": {},
   "source": [
    "### Determine parameters over which to do cross-validation"
   ]
  },
  {
   "cell_type": "code",
   "execution_count": 4,
   "metadata": {},
   "outputs": [],
   "source": [
    "# datapath = '../../../data-00/'\n",
    "# keyword = {'DNNActvtn','ROIpred'}\n",
    "# layer =  {'conv_1','conv_5','fc_3'}\n",
    "# Sub = [1,2,3,4]\n",
    "# ROI = {'EVC','ObjectROI'}\n",
    "# Keepncomps = list(range(2,42,2))\n",
    "\n",
    "pretrained_val = True\n",
    "# addRandomW = True\n",
    "\n",
    "Ypredict = 'Word2Vec'"
   ]
  },
  {
   "cell_type": "code",
   "execution_count": 5,
   "metadata": {},
   "outputs": [],
   "source": [
    "import runCV"
   ]
  },
  {
   "cell_type": "code",
   "execution_count": null,
   "metadata": {},
   "outputs": [
    {
     "name": "stdout",
     "output_type": "stream",
     "text": [
      "k-fold regression, independet variable: 2 PCs retained of ROIpred from ObjectROI\n",
      "k-fold regression, independet variable: 4 PCs retained of ROIpred from ObjectROI\n",
      "k-fold regression, independet variable: 6 PCs retained of ROIpred from ObjectROI\n",
      "k-fold regression, independet variable: 8 PCs retained of ROIpred from ObjectROI\n",
      "k-fold regression, independet variable: 10 PCs retained of ROIpred from ObjectROI\n",
      "k-fold regression, independet variable: 12 PCs retained of ROIpred from ObjectROI\n",
      "k-fold regression, independet variable: 14 PCs retained of ROIpred from ObjectROI\n",
      "k-fold regression, independet variable: 16 PCs retained of ROIpred from ObjectROI\n",
      "k-fold regression, independet variable: 18 PCs retained of ROIpred from ObjectROI\n",
      "k-fold regression, independet variable: 20 PCs retained of ROIpred from ObjectROI\n",
      "k-fold regression, independet variable: 22 PCs retained of ROIpred from ObjectROI\n",
      "k-fold regression, independet variable: 24 PCs retained of ROIpred from ObjectROI\n",
      "k-fold regression, independet variable: 26 PCs retained of ROIpred from ObjectROI\n",
      "k-fold regression, independet variable: 28 PCs retained of ROIpred from ObjectROI\n",
      "k-fold regression, independet variable: 30 PCs retained of ROIpred from ObjectROI\n",
      "k-fold regression, independet variable: 32 PCs retained of ROIpred from ObjectROI\n",
      "k-fold regression, independet variable: 34 PCs retained of ROIpred from ObjectROI\n",
      "k-fold regression, independet variable: 36 PCs retained of ROIpred from ObjectROI\n",
      "k-fold regression, independet variable: 38 PCs retained of ROIpred from ObjectROI\n",
      "k-fold regression, independet variable: 40 PCs retained of ROIpred from ObjectROI\n",
      "k-fold regression, independet variable: 2 PCs retained of ROIpred from EVC\n",
      "k-fold regression, independet variable: 4 PCs retained of ROIpred from EVC\n",
      "k-fold regression, independet variable: 6 PCs retained of ROIpred from EVC\n",
      "k-fold regression, independet variable: 8 PCs retained of ROIpred from EVC\n",
      "k-fold regression, independet variable: 10 PCs retained of ROIpred from EVC\n",
      "k-fold regression, independet variable: 12 PCs retained of ROIpred from EVC\n",
      "k-fold regression, independet variable: 14 PCs retained of ROIpred from EVC\n",
      "k-fold regression, independet variable: 16 PCs retained of ROIpred from EVC\n",
      "k-fold regression, independet variable: 18 PCs retained of ROIpred from EVC\n",
      "k-fold regression, independet variable: 20 PCs retained of ROIpred from EVC\n",
      "k-fold regression, independet variable: 22 PCs retained of ROIpred from EVC\n",
      "k-fold regression, independet variable: 24 PCs retained of ROIpred from EVC\n",
      "k-fold regression, independet variable: 26 PCs retained of ROIpred from EVC\n",
      "k-fold regression, independet variable: 28 PCs retained of ROIpred from EVC\n",
      "k-fold regression, independet variable: 30 PCs retained of ROIpred from EVC\n",
      "k-fold regression, independet variable: 32 PCs retained of ROIpred from EVC\n",
      "k-fold regression, independet variable: 34 PCs retained of ROIpred from EVC\n",
      "k-fold regression, independet variable: 36 PCs retained of ROIpred from EVC\n",
      "k-fold regression, independet variable: 38 PCs retained of ROIpred from EVC\n",
      "k-fold regression, independet variable: 40 PCs retained of ROIpred from EVC\n",
      "k-fold regression, independet variable: 2 PCs retained of ROIpred from ObjectROI\n",
      "k-fold regression, independet variable: 4 PCs retained of ROIpred from ObjectROI\n",
      "k-fold regression, independet variable: 6 PCs retained of ROIpred from ObjectROI\n",
      "k-fold regression, independet variable: 8 PCs retained of ROIpred from ObjectROI\n",
      "k-fold regression, independet variable: 10 PCs retained of ROIpred from ObjectROI\n",
      "k-fold regression, independet variable: 12 PCs retained of ROIpred from ObjectROI\n",
      "k-fold regression, independet variable: 14 PCs retained of ROIpred from ObjectROI\n",
      "k-fold regression, independet variable: 16 PCs retained of ROIpred from ObjectROI\n",
      "k-fold regression, independet variable: 18 PCs retained of ROIpred from ObjectROI\n",
      "k-fold regression, independet variable: 20 PCs retained of ROIpred from ObjectROI\n",
      "k-fold regression, independet variable: 22 PCs retained of ROIpred from ObjectROI\n",
      "k-fold regression, independet variable: 24 PCs retained of ROIpred from ObjectROI\n",
      "k-fold regression, independet variable: 26 PCs retained of ROIpred from ObjectROI\n",
      "k-fold regression, independet variable: 28 PCs retained of ROIpred from ObjectROI\n",
      "k-fold regression, independet variable: 30 PCs retained of ROIpred from ObjectROI\n",
      "k-fold regression, independet variable: 32 PCs retained of ROIpred from ObjectROI\n",
      "k-fold regression, independet variable: 34 PCs retained of ROIpred from ObjectROI\n",
      "k-fold regression, independet variable: 36 PCs retained of ROIpred from ObjectROI\n",
      "k-fold regression, independet variable: 38 PCs retained of ROIpred from ObjectROI\n",
      "k-fold regression, independet variable: 40 PCs retained of ROIpred from ObjectROI\n",
      "k-fold regression, independet variable: 2 PCs retained of ROIpred from EVC\n",
      "k-fold regression, independet variable: 4 PCs retained of ROIpred from EVC\n",
      "k-fold regression, independet variable: 6 PCs retained of ROIpred from EVC\n",
      "k-fold regression, independet variable: 8 PCs retained of ROIpred from EVC\n",
      "k-fold regression, independet variable: 10 PCs retained of ROIpred from EVC\n",
      "k-fold regression, independet variable: 12 PCs retained of ROIpred from EVC\n",
      "k-fold regression, independet variable: 14 PCs retained of ROIpred from EVC\n",
      "k-fold regression, independet variable: 16 PCs retained of ROIpred from EVC\n",
      "k-fold regression, independet variable: 18 PCs retained of ROIpred from EVC\n",
      "k-fold regression, independet variable: 20 PCs retained of ROIpred from EVC\n",
      "k-fold regression, independet variable: 22 PCs retained of ROIpred from EVC\n",
      "k-fold regression, independet variable: 24 PCs retained of ROIpred from EVC\n",
      "k-fold regression, independet variable: 26 PCs retained of ROIpred from EVC\n",
      "k-fold regression, independet variable: 28 PCs retained of ROIpred from EVC\n",
      "k-fold regression, independet variable: 30 PCs retained of ROIpred from EVC\n",
      "k-fold regression, independet variable: 32 PCs retained of ROIpred from EVC\n",
      "k-fold regression, independet variable: 34 PCs retained of ROIpred from EVC\n",
      "k-fold regression, independet variable: 36 PCs retained of ROIpred from EVC\n"
     ]
    }
   ],
   "source": [
    "runCV.runCV_execute(pretrained_val,savepath,Ypredict)"
   ]
  },
  {
   "cell_type": "code",
   "execution_count": null,
   "metadata": {},
   "outputs": [],
   "source": []
  }
 ],
 "metadata": {
  "kernelspec": {
   "display_name": "Python 3",
   "language": "python",
   "name": "python3"
  },
  "language_info": {
   "codemirror_mode": {
    "name": "ipython",
    "version": 3
   },
   "file_extension": ".py",
   "mimetype": "text/x-python",
   "name": "python",
   "nbconvert_exporter": "python",
   "pygments_lexer": "ipython3",
   "version": "3.7.4"
  }
 },
 "nbformat": 4,
 "nbformat_minor": 4
}
