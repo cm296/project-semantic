{
 "cells": [
  {
   "cell_type": "code",
   "execution_count": 1,
   "metadata": {},
   "outputs": [],
   "source": [
    "import os\n",
    "import matplotlib.pyplot as plt\n",
    "import numpy as np\n",
    "import pandas as pd\n",
    "import utilsCM\n",
    "\n",
    "from tqdm import tqdm"
   ]
  },
  {
   "cell_type": "code",
   "execution_count": 15,
   "metadata": {},
   "outputs": [],
   "source": [
    "# keyword = {'ROIpred'}\n",
    "keyword = {'DNNActvtn'}\n",
    "\n",
    "# layer =  {'conv_2', 'conv_2','conv_3','conv_4','conv_5'}\n",
    "layer =  {'conv_1'}\n",
    "\n",
    "# ROI = {'EVC','LOC','PFS','OPA','PPA','RSC','FFA','OFA','STS','EBA'}\n",
    "# ROI = {'EVC','LOC','PPA'}\n",
    "ROI = {'EVC'}\n",
    "\n",
    "Sub = [1]\n",
    "# Keepncomps = [10,40,80]\n",
    "pretrained_val = True\n",
    "\n",
    "datapath = '../../../data-00/'\n",
    "savepath = '../../../data-01/'"
   ]
  },
  {
   "cell_type": "code",
   "execution_count": 18,
   "metadata": {},
   "outputs": [],
   "source": [
    "for ilayer in layer:\n",
    "    for ikeyword in keyword:\n",
    "        \n",
    "        if ikeyword is 'ROIpred':\n",
    "            \n",
    "            for iROI in ROI:\n",
    "                \n",
    "                predictor_variable = {}\n",
    "                for iSub in Sub:\n",
    "                    if not pretrained_val:\n",
    "                        thisSub = np.load(datapath +  \"ROIpred_Sub\" + str(iSub) + '_' + iROI + \"_\" + ilayer + '_untrained.npy')\n",
    "                    else:\n",
    "                        thisSub = np.load(datapath +  \"ROIpred_Sub\" + str(iSub) + '_' + iROI + \"_\" + ilayer + '.npy')\n",
    "                            \n",
    "                    #load ROIpred as predictor variable\n",
    "                    if iSub is 1:\n",
    "                        predictor_variable = thisSub\n",
    "                    else:\n",
    "                        predictor_variable = np.append( predictor_variable , thisSub, axis = 1)\n",
    "\n",
    "                for icomps in Keepncomps:\n",
    "                    mean_r = {}\n",
    "                    mean_r = utilsCM.iter_cvregress(predictor_variable,Y_embeddings,ikeyword,ilayer,icomps,iROI,savefolder = savepath, pretrained = pretrained_val)\n",
    "#                     utilsCM.make_figure(mean_r,ikeyword,ilayer,icomps,iROI, figurepath = 'figures-01/')\n",
    "#                     print(mean_r)\n",
    "        \n",
    "        \n",
    "        elif ikeyword is 'DNNActvtn':            \n",
    "            if not pretrained_val:\n",
    "                predictor_variable = pd.read_csv(datapath +  \"things_\" + ilayer + '_untrained.csv', header=None, index_col=0).iloc[:,:].to_numpy()\n",
    "            else:\n",
    "                predictor_variable = pd.read_csv(datapath +  \"object2vec_\" + ilayer + '.csv', header=None, index_col=0).iloc[:,:].to_numpy()\n",
    "                predictor_variable_np = np.load(datapath +  \"object2vec_\" + ilayer + '.npy',allow_pickle=True)\n",
    "\n",
    "        "
   ]
  },
  {
   "cell_type": "code",
   "execution_count": 29,
   "metadata": {},
   "outputs": [
    {
     "data": {
      "text/plain": [
       "(46656,)"
      ]
     },
     "execution_count": 29,
     "metadata": {},
     "output_type": "execute_result"
    }
   ],
   "source": [
    "list(predictor_variable_np.item().values())[0].shape"
   ]
  },
  {
   "cell_type": "code",
   "execution_count": null,
   "metadata": {},
   "outputs": [],
   "source": []
  }
 ],
 "metadata": {
  "kernelspec": {
   "display_name": "Python 3",
   "language": "python",
   "name": "python3"
  },
  "language_info": {
   "codemirror_mode": {
    "name": "ipython",
    "version": 3
   },
   "file_extension": ".py",
   "mimetype": "text/x-python",
   "name": "python",
   "nbconvert_exporter": "python",
   "pygments_lexer": "ipython3",
   "version": "3.7.4"
  }
 },
 "nbformat": 4,
 "nbformat_minor": 4
}
